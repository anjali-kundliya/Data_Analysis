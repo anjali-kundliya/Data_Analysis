{
 "cells": [
  {
   "cell_type": "code",
   "execution_count": 1,
   "id": "5a50cd1b",
   "metadata": {},
   "outputs": [],
   "source": [
    "import pandas as pd\n",
    "import numpy as np\n",
    "import matplotlib.pyplot as plt\n",
    "import seaborn as sns"
   ]
  },
  {
   "cell_type": "code",
   "execution_count": 2,
   "id": "30dbbca5",
   "metadata": {},
   "outputs": [],
   "source": [
    "df=pd.read_csv(\"summer.csv\")"
   ]
  },
  {
   "cell_type": "code",
   "execution_count": 3,
   "id": "8f42b07f",
   "metadata": {},
   "outputs": [
    {
     "data": {
      "text/html": [
       "<div>\n",
       "<style scoped>\n",
       "    .dataframe tbody tr th:only-of-type {\n",
       "        vertical-align: middle;\n",
       "    }\n",
       "\n",
       "    .dataframe tbody tr th {\n",
       "        vertical-align: top;\n",
       "    }\n",
       "\n",
       "    .dataframe thead th {\n",
       "        text-align: right;\n",
       "    }\n",
       "</style>\n",
       "<table border=\"1\" class=\"dataframe\">\n",
       "  <thead>\n",
       "    <tr style=\"text-align: right;\">\n",
       "      <th></th>\n",
       "      <th>Year</th>\n",
       "      <th>City</th>\n",
       "      <th>Sport</th>\n",
       "      <th>Discipline</th>\n",
       "      <th>Athlete</th>\n",
       "      <th>Country</th>\n",
       "      <th>Gender</th>\n",
       "      <th>Event</th>\n",
       "      <th>Medal</th>\n",
       "    </tr>\n",
       "  </thead>\n",
       "  <tbody>\n",
       "    <tr>\n",
       "      <th>0</th>\n",
       "      <td>1896</td>\n",
       "      <td>Athens</td>\n",
       "      <td>Aquatics</td>\n",
       "      <td>Swimming</td>\n",
       "      <td>HAJOS, Alfred</td>\n",
       "      <td>HUN</td>\n",
       "      <td>Men</td>\n",
       "      <td>100M Freestyle</td>\n",
       "      <td>Gold</td>\n",
       "    </tr>\n",
       "    <tr>\n",
       "      <th>1</th>\n",
       "      <td>1896</td>\n",
       "      <td>Athens</td>\n",
       "      <td>Aquatics</td>\n",
       "      <td>Swimming</td>\n",
       "      <td>HERSCHMANN, Otto</td>\n",
       "      <td>AUT</td>\n",
       "      <td>Men</td>\n",
       "      <td>100M Freestyle</td>\n",
       "      <td>Silver</td>\n",
       "    </tr>\n",
       "    <tr>\n",
       "      <th>2</th>\n",
       "      <td>1896</td>\n",
       "      <td>Athens</td>\n",
       "      <td>Aquatics</td>\n",
       "      <td>Swimming</td>\n",
       "      <td>DRIVAS, Dimitrios</td>\n",
       "      <td>GRE</td>\n",
       "      <td>Men</td>\n",
       "      <td>100M Freestyle For Sailors</td>\n",
       "      <td>Bronze</td>\n",
       "    </tr>\n",
       "    <tr>\n",
       "      <th>3</th>\n",
       "      <td>1896</td>\n",
       "      <td>Athens</td>\n",
       "      <td>Aquatics</td>\n",
       "      <td>Swimming</td>\n",
       "      <td>MALOKINIS, Ioannis</td>\n",
       "      <td>GRE</td>\n",
       "      <td>Men</td>\n",
       "      <td>100M Freestyle For Sailors</td>\n",
       "      <td>Gold</td>\n",
       "    </tr>\n",
       "    <tr>\n",
       "      <th>4</th>\n",
       "      <td>1896</td>\n",
       "      <td>Athens</td>\n",
       "      <td>Aquatics</td>\n",
       "      <td>Swimming</td>\n",
       "      <td>CHASAPIS, Spiridon</td>\n",
       "      <td>GRE</td>\n",
       "      <td>Men</td>\n",
       "      <td>100M Freestyle For Sailors</td>\n",
       "      <td>Silver</td>\n",
       "    </tr>\n",
       "    <tr>\n",
       "      <th>...</th>\n",
       "      <td>...</td>\n",
       "      <td>...</td>\n",
       "      <td>...</td>\n",
       "      <td>...</td>\n",
       "      <td>...</td>\n",
       "      <td>...</td>\n",
       "      <td>...</td>\n",
       "      <td>...</td>\n",
       "      <td>...</td>\n",
       "    </tr>\n",
       "    <tr>\n",
       "      <th>31160</th>\n",
       "      <td>2012</td>\n",
       "      <td>London</td>\n",
       "      <td>Wrestling</td>\n",
       "      <td>Wrestling Freestyle</td>\n",
       "      <td>JANIKOWSKI, Damian</td>\n",
       "      <td>POL</td>\n",
       "      <td>Men</td>\n",
       "      <td>Wg 84 KG</td>\n",
       "      <td>Bronze</td>\n",
       "    </tr>\n",
       "    <tr>\n",
       "      <th>31161</th>\n",
       "      <td>2012</td>\n",
       "      <td>London</td>\n",
       "      <td>Wrestling</td>\n",
       "      <td>Wrestling Freestyle</td>\n",
       "      <td>REZAEI, Ghasem Gholamreza</td>\n",
       "      <td>IRI</td>\n",
       "      <td>Men</td>\n",
       "      <td>Wg 96 KG</td>\n",
       "      <td>Gold</td>\n",
       "    </tr>\n",
       "    <tr>\n",
       "      <th>31162</th>\n",
       "      <td>2012</td>\n",
       "      <td>London</td>\n",
       "      <td>Wrestling</td>\n",
       "      <td>Wrestling Freestyle</td>\n",
       "      <td>TOTROV, Rustam</td>\n",
       "      <td>RUS</td>\n",
       "      <td>Men</td>\n",
       "      <td>Wg 96 KG</td>\n",
       "      <td>Silver</td>\n",
       "    </tr>\n",
       "    <tr>\n",
       "      <th>31163</th>\n",
       "      <td>2012</td>\n",
       "      <td>London</td>\n",
       "      <td>Wrestling</td>\n",
       "      <td>Wrestling Freestyle</td>\n",
       "      <td>ALEKSANYAN, Artur</td>\n",
       "      <td>ARM</td>\n",
       "      <td>Men</td>\n",
       "      <td>Wg 96 KG</td>\n",
       "      <td>Bronze</td>\n",
       "    </tr>\n",
       "    <tr>\n",
       "      <th>31164</th>\n",
       "      <td>2012</td>\n",
       "      <td>London</td>\n",
       "      <td>Wrestling</td>\n",
       "      <td>Wrestling Freestyle</td>\n",
       "      <td>LIDBERG, Jimmy</td>\n",
       "      <td>SWE</td>\n",
       "      <td>Men</td>\n",
       "      <td>Wg 96 KG</td>\n",
       "      <td>Bronze</td>\n",
       "    </tr>\n",
       "  </tbody>\n",
       "</table>\n",
       "<p>31165 rows × 9 columns</p>\n",
       "</div>"
      ],
      "text/plain": [
       "       Year    City      Sport           Discipline  \\\n",
       "0      1896  Athens   Aquatics             Swimming   \n",
       "1      1896  Athens   Aquatics             Swimming   \n",
       "2      1896  Athens   Aquatics             Swimming   \n",
       "3      1896  Athens   Aquatics             Swimming   \n",
       "4      1896  Athens   Aquatics             Swimming   \n",
       "...     ...     ...        ...                  ...   \n",
       "31160  2012  London  Wrestling  Wrestling Freestyle   \n",
       "31161  2012  London  Wrestling  Wrestling Freestyle   \n",
       "31162  2012  London  Wrestling  Wrestling Freestyle   \n",
       "31163  2012  London  Wrestling  Wrestling Freestyle   \n",
       "31164  2012  London  Wrestling  Wrestling Freestyle   \n",
       "\n",
       "                         Athlete Country Gender                       Event  \\\n",
       "0                  HAJOS, Alfred     HUN    Men              100M Freestyle   \n",
       "1               HERSCHMANN, Otto     AUT    Men              100M Freestyle   \n",
       "2              DRIVAS, Dimitrios     GRE    Men  100M Freestyle For Sailors   \n",
       "3             MALOKINIS, Ioannis     GRE    Men  100M Freestyle For Sailors   \n",
       "4             CHASAPIS, Spiridon     GRE    Men  100M Freestyle For Sailors   \n",
       "...                          ...     ...    ...                         ...   \n",
       "31160         JANIKOWSKI, Damian     POL    Men                    Wg 84 KG   \n",
       "31161  REZAEI, Ghasem Gholamreza     IRI    Men                    Wg 96 KG   \n",
       "31162             TOTROV, Rustam     RUS    Men                    Wg 96 KG   \n",
       "31163          ALEKSANYAN, Artur     ARM    Men                    Wg 96 KG   \n",
       "31164             LIDBERG, Jimmy     SWE    Men                    Wg 96 KG   \n",
       "\n",
       "        Medal  \n",
       "0        Gold  \n",
       "1      Silver  \n",
       "2      Bronze  \n",
       "3        Gold  \n",
       "4      Silver  \n",
       "...       ...  \n",
       "31160  Bronze  \n",
       "31161    Gold  \n",
       "31162  Silver  \n",
       "31163  Bronze  \n",
       "31164  Bronze  \n",
       "\n",
       "[31165 rows x 9 columns]"
      ]
     },
     "execution_count": 3,
     "metadata": {},
     "output_type": "execute_result"
    }
   ],
   "source": [
    "df"
   ]
  },
  {
   "cell_type": "markdown",
   "id": "ebb4fceb",
   "metadata": {},
   "source": [
    "# Q1: In how many cities Summer Olympics is held so far?"
   ]
  },
  {
   "cell_type": "code",
   "execution_count": 4,
   "id": "3274354a",
   "metadata": {},
   "outputs": [
    {
     "name": "stdout",
     "output_type": "stream",
     "text": [
      "These are the cities in which Summer Olympics are held so far: \n",
      "['Athens' 'Paris' 'St Louis' 'London' 'Stockholm' 'Antwerp' 'Amsterdam'\n",
      " 'Los Angeles' 'Berlin' 'Helsinki' 'Melbourne / Stockholm' 'Rome' 'Tokyo'\n",
      " 'Mexico' 'Munich' 'Montreal' 'Moscow' 'Seoul' 'Barcelona' 'Atlanta'\n",
      " 'Sydney' 'Beijing']\n",
      "Total number of cities in which Summer Olympics is held so far is:  22\n"
     ]
    }
   ],
   "source": [
    "total_cities = df['City'].unique()\n",
    "print('These are the cities in which Summer Olympics are held so far: ')\n",
    "print(total_cities)\n",
    "print(\"Total number of cities in which Summer Olympics is held so far is: \", len(total_cities))"
   ]
  },
  {
   "cell_type": "markdown",
   "id": "add85ffb",
   "metadata": {},
   "source": [
    "# Q2: Which sport is having most number of Gold Medals so far?"
   ]
  },
  {
   "cell_type": "code",
   "execution_count": 5,
   "id": "37290e59",
   "metadata": {},
   "outputs": [
    {
     "name": "stdout",
     "output_type": "stream",
     "text": [
      "         Sport  Medal\n",
      "0     Aquatics   1421\n",
      "2    Athletics   1215\n",
      "28      Rowing    890\n",
      "17  Gymnastics    820\n",
      "14     Fencing    552\n"
     ]
    }
   ],
   "source": [
    "Gold_Medals = df[df['Medal']=='Gold'].groupby('Sport').agg({'Medal':'count'})\n",
    "Gold_Medals.reset_index(inplace=True)\n",
    "Gold_Medals.sort_values(by='Medal', ascending=False, inplace=True)\n",
    "Gold_Medals = Gold_Medals.head()\n",
    "print(Gold_Medals)"
   ]
  },
  {
   "cell_type": "code",
   "execution_count": 6,
   "id": "11fc5b91",
   "metadata": {},
   "outputs": [
    {
     "data": {
      "text/plain": [
       "<AxesSubplot:title={'center':'Most number of Gold Medals so far (Top 5)'}, xlabel='Sport', ylabel='Medal'>"
      ]
     },
     "execution_count": 6,
     "metadata": {},
     "output_type": "execute_result"
    },
    {
     "data": {
      "image/png": "[encoded data removed]",
      "text/plain": [
       "<Figure size 432x288 with 1 Axes>"
      ]
     },
     "metadata": {
      "needs_background": "light"
     },
     "output_type": "display_data"
    }
   ],
   "source": [
    "plt.title('Most number of Gold Medals so far (Top 5)')\n",
    "sns.barplot(x='Sport', y='Medal', data= Gold_Medals)"
   ]
  },
  {
   "cell_type": "markdown",
   "id": "d8807865",
   "metadata": {},
   "source": [
    "# Q3: Which sport is having most number of Medals so far?"
   ]
  },
  {
   "cell_type": "code",
   "execution_count": 7,
   "id": "b65345ab",
   "metadata": {},
   "outputs": [
    {
     "name": "stdout",
     "output_type": "stream",
     "text": [
      "         Sport  Medal\n",
      "0     Aquatics   4170\n",
      "2    Athletics   3638\n",
      "28      Rowing   2667\n",
      "17  Gymnastics   2307\n",
      "14     Fencing   1613\n"
     ]
    }
   ],
   "source": [
    "Most_Medals = df.groupby('Sport').agg({'Medal':'count'})\n",
    "Most_Medals.reset_index(inplace=True)\n",
    "Most_Medals.sort_values(by='Medal', ascending=False, inplace=True)\n",
    "Most_Medals = Most_Medals.head()\n",
    "print(Most_Medals)"
   ]
  },
  {
   "cell_type": "code",
   "execution_count": 8,
   "id": "ba934069",
   "metadata": {},
   "outputs": [
    {
     "data": {
      "text/plain": [
       "<AxesSubplot:title={'center':'Most number of Medals so far (Top 5)'}, xlabel='Sport', ylabel='Medal'>"
      ]
     },
     "execution_count": 8,
     "metadata": {},
     "output_type": "execute_result"
    },
    {
     "data": {
      "image/png": "[encoded data removed]",
      "text/plain": [
       "<Figure size 432x288 with 1 Axes>"
      ]
     },
     "metadata": {
      "needs_background": "light"
     },
     "output_type": "display_data"
    }
   ],
   "source": [
    "plt.title('Most number of Medals so far (Top 5)')\n",
    "sns.barplot(x='Sport', y='Medal', data=Most_Medals)"
   ]
  },
  {
   "cell_type": "markdown",
   "id": "1aca8947",
   "metadata": {},
   "source": [
    "# Q4: Which player has won most number of Medals?"
   ]
  },
  {
   "cell_type": "code",
   "execution_count": 10,
   "id": "2904deea",
   "metadata": {},
   "outputs": [
    {
     "name": "stdout",
     "output_type": "stream",
     "text": [
      "                    Athlete  Medal\n",
      "15702       PHELPS, Michael     22\n",
      "11202      LATYNINA, Larisa     18\n",
      "511      ANDRIANOV, Nikolay     15\n",
      "12476  MANGIAROTTI, Edoardo     13\n",
      "14883          ONO, Takashi     13\n"
     ]
    }
   ],
   "source": [
    "Player_Medal = df.groupby('Athlete').agg({'Medal':'count'})\n",
    "Player_Medal.reset_index(inplace=True)\n",
    "Player_Medal.sort_values(by='Medal', ascending=False, inplace=True)\n",
    "Player_Medal = Player_Medal.head()\n",
    "print(Player_Medal)"
   ]
  },
  {
   "cell_type": "code",
   "execution_count": 13,
   "id": "c5d1f9cb",
   "metadata": {},
   "outputs": [
    {
     "data": {
      "text/plain": [
       "Text(0, 0.5, 'Total Number of Medals Won')"
      ]
     },
     "execution_count": 13,
     "metadata": {},
     "output_type": "execute_result"
    },
    {
     "data": {
      "image/png": "[encoded data removed]",
      "text/plain": [
       "<Figure size 360x360 with 1 Axes>"
      ]
     },
     "metadata": {
      "needs_background": "light"
     },
     "output_type": "display_data"
    }
   ],
   "source": [
    "fig, ax = plt.subplots(figsize=(5, 5))\n",
    "sns.barplot(x='Athlete', y='Medal', data=Player_Medal, ax=ax)\n",
    "plt.xlabel(\"Athletes\")\n",
    "plt.ylabel(\"Total Number of Medals Won\")"
   ]
  },
  {
   "cell_type": "markdown",
   "id": "be685188",
   "metadata": {},
   "source": [
    "# Q5: Which player has won most number of Gold Medals?"
   ]
  },
  {
   "cell_type": "code",
   "execution_count": 14,
   "id": "5f3a6a83",
   "metadata": {},
   "outputs": [
    {
     "name": "stdout",
     "output_type": "stream",
     "text": [
      "               Athlete  Medal\n",
      "5712   PHELPS, Michael     18\n",
      "4186       LEWIS, Carl      9\n",
      "5332      NURMI, Paavo      9\n",
      "6905       SPITZ, Mark      9\n",
      "4066  LATYNINA, Larisa      9\n"
     ]
    }
   ],
   "source": [
    "Player_Gold_Medals = df[df['Medal']=='Gold'].groupby('Athlete').agg({'Medal': 'count'})\n",
    "Player_Gold_Medals.reset_index(inplace=True)\n",
    "Player_Gold_Medals.sort_values(by='Medal', ascending=False, inplace=True)\n",
    "Player_Gold_Medals = Player_Gold_Medals.head()\n",
    "print(Player_Gold_Medals)"
   ]
  },
  {
   "cell_type": "code",
   "execution_count": 15,
   "id": "e64744b4",
   "metadata": {},
   "outputs": [
    {
     "data": {
      "text/plain": [
       "Text(0, 0.5, 'Total Number of Gold Medals Won')"
      ]
     },
     "execution_count": 15,
     "metadata": {},
     "output_type": "execute_result"
    },
    {
     "data": {
      "image/png": "[encoded data removed]",
      "text/plain": [
       "<Figure size 360x360 with 1 Axes>"
      ]
     },
     "metadata": {
      "needs_background": "light"
     },
     "output_type": "display_data"
    }
   ],
   "source": [
    "fig, ax = plt.subplots(figsize=(5, 5))\n",
    "sns.barplot(x='Athlete', y='Medal', data=Player_Gold_Medals, ax=ax)\n",
    "plt.xlabel(\"Athletes\")\n",
    "plt.ylabel(\"Total Number of Gold Medals Won\")"
   ]
  },
  {
   "cell_type": "markdown",
   "id": "bfe03b0a",
   "metadata": {},
   "source": [
    "# Q6: In which year India won its first Gold Medal in Summer Olympics?"
   ]
  },
  {
   "cell_type": "code",
   "execution_count": 17,
   "id": "5bb67af5",
   "metadata": {},
   "outputs": [
    {
     "name": "stdout",
     "output_type": "stream",
     "text": [
      "India won its first Gold Medal in Summer Olympics in the year:  1928\n"
     ]
    }
   ],
   "source": [
    "Year = df[df.Medal == 'Gold']\n",
    "Year_date = min(Year[Year.Country == 'IND'].Year)\n",
    "print('India won its first Gold Medal in Summer Olympics in the year: ', Year_date)"
   ]
  },
  {
   "cell_type": "markdown",
   "id": "66383ca3",
   "metadata": {},
   "source": [
    "# Q7: Which event is most popular in terms of number of players? (Top 5)"
   ]
  },
  {
   "cell_type": "code",
   "execution_count": 18,
   "id": "6921c923",
   "metadata": {},
   "outputs": [
    {
     "name": "stdout",
     "output_type": "stream",
     "text": [
      "                Event  Athlete\n",
      "477          Football     1497\n",
      "489            Hockey     1422\n",
      "614  Team Competition     1147\n",
      "403        Basketball     1012\n",
      "483          Handball      973\n"
     ]
    }
   ],
   "source": [
    "Most_Popular_Events = df.groupby('Event').agg({'Athlete':'count'})\n",
    "Most_Popular_Events.reset_index(inplace=True)\n",
    "Most_Popular_Events.sort_values(by='Athlete', ascending=False, inplace=True)\n",
    "Most_Popular_Events = Most_Popular_Events.head()\n",
    "print(Most_Popular_Events)"
   ]
  },
  {
   "cell_type": "code",
   "execution_count": 20,
   "id": "93207b46",
   "metadata": {},
   "outputs": [
    {
     "data": {
      "text/plain": [
       "Text(0, 0.5, 'Athletes')"
      ]
     },
     "execution_count": 20,
     "metadata": {},
     "output_type": "execute_result"
    },
    {
     "data": {
      "image/png": "[encoded data removed]",
      "text/plain": [
       "<Figure size 360x360 with 1 Axes>"
      ]
     },
     "metadata": {
      "needs_background": "light"
     },
     "output_type": "display_data"
    }
   ],
   "source": [
    "fig, ax = plt.subplots(figsize=(5, 5))\n",
    "sns.barplot(x='Event', y='Athlete', data=Most_Popular_Events, ax=ax)\n",
    "plt.title(\"Most popular event in terms of number of players\")\n",
    "plt.xlabel(\"Events\")\n",
    "plt.ylabel(\"Athletes\")"
   ]
  },
  {
   "cell_type": "markdown",
   "id": "56e362cd",
   "metadata": {},
   "source": [
    "# Q8: Which sport is having most female Gold Medalists?(Top 5)"
   ]
  },
  {
   "cell_type": "code",
   "execution_count": 21,
   "id": "62f9b0c7",
   "metadata": {},
   "outputs": [
    {
     "name": "stdout",
     "output_type": "stream",
     "text": [
      "         Sport  Medal\n",
      "0     Aquatics    589\n",
      "2    Athletics    389\n",
      "13  Gymnastics    268\n",
      "18      Rowing    217\n",
      "27  Volleyball    166\n"
     ]
    }
   ],
   "source": [
    "Sport_Female_Gold_Medalists = df[(df['Medal']=='Gold') & (df['Gender'] == 'Women')].groupby('Sport').agg({'Medal':'count'})\n",
    "Sport_Female_Gold_Medalists.reset_index(inplace=True)\n",
    "Sport_Female_Gold_Medalists.sort_values(by='Medal', ascending=False, inplace=True)\n",
    "Sport_Female_Gold_Medalists = Sport_Female_Gold_Medalists.head()\n",
    "print(Sport_Female_Gold_Medalists)"
   ]
  },
  {
   "cell_type": "code",
   "execution_count": 22,
   "id": "ad511021",
   "metadata": {},
   "outputs": [
    {
     "data": {
      "text/plain": [
       "Text(0, 0.5, 'Total Number of Female Gold Medals Won')"
      ]
     },
     "execution_count": 22,
     "metadata": {},
     "output_type": "execute_result"
    },
    {
     "data": {
      "image/png": "[encoded data removed]",
      "text/plain": [
       "<Figure size 360x360 with 1 Axes>"
      ]
     },
     "metadata": {
      "needs_background": "light"
     },
     "output_type": "display_data"
    }
   ],
   "source": [
    "fig, ax = plt.subplots(figsize=(5, 5))\n",
    "sns.barplot(x='Sport', y='Medal', data=Sport_Female_Gold_Medalists, ax=ax)\n",
    "plt.title(\"Most female gold medalists\")\n",
    "plt.xlabel(\"Sport\")\n",
    "plt.ylabel(\"Total Number of Female Gold Medals Won\")"
   ]
  },
  {
   "cell_type": "code",
   "execution_count": null,
   "id": "a5ac53f1",
   "metadata": {},
   "outputs": [],
   "source": []
  }
 ],
 "metadata": {
  "kernelspec": {
   "display_name": "Python 3",
   "language": "python",
   "name": "python3"
  },
  "language_info": {
   "codemirror_mode": {
    "name": "ipython",
    "version": 3
   },
   "file_extension": ".py",
   "mimetype": "text/x-python",
   "name": "python",
   "nbconvert_exporter": "python",
   "pygments_lexer": "ipython3",
   "version": "3.8.8"
  }
 },
 "nbformat": 4,
 "nbformat_minor": 5
}
